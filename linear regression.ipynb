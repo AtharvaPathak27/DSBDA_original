{
  "nbformat": 4,
  "nbformat_minor": 0,
  "metadata": {
    "colab": {
      "provenance": []
    },
    "kernelspec": {
      "name": "python3",
      "display_name": "Python 3"
    },
    "language_info": {
      "name": "python"
    }
  },
  "cells": [
    {
      "cell_type": "code",
      "execution_count": null,
      "metadata": {
        "id": "6Z8DkqgfbuHC"
      },
      "outputs": [],
      "source": [
        "import numpy as np\n",
        "import seaborn as sb\n",
        "import matplotlib.pyplot as mp\n",
        "import pandas as pd"
      ]
    },
    {
      "cell_type": "code",
      "source": [
        "df = pd.read_csv(\"BostonHousing.csv\")\n",
        "df"
      ],
      "metadata": {
        "colab": {
          "base_uri": "https://localhost:8080/",
          "height": 423
        },
        "id": "nnUuoCl9b7vx",
        "outputId": "c03712f9-965d-49fb-baf6-85735895bd0f"
      },
      "execution_count": null,
      "outputs": [
        {
          "output_type": "execute_result",
          "data": {
            "text/plain": [
              "        crim    zn  indus  chas    nox     rm   age     dis  rad  tax  \\\n",
              "0    0.00632  18.0   2.31     0  0.538  6.575  65.2  4.0900    1  296   \n",
              "1    0.02731   0.0   7.07     0  0.469  6.421  78.9  4.9671    2  242   \n",
              "2    0.02729   0.0   7.07     0  0.469  7.185  61.1  4.9671    2  242   \n",
              "3    0.03237   0.0   2.18     0  0.458  6.998  45.8  6.0622    3  222   \n",
              "4    0.06905   0.0   2.18     0  0.458  7.147  54.2  6.0622    3  222   \n",
              "..       ...   ...    ...   ...    ...    ...   ...     ...  ...  ...   \n",
              "501  0.06263   0.0  11.93     0  0.573  6.593  69.1  2.4786    1  273   \n",
              "502  0.04527   0.0  11.93     0  0.573  6.120  76.7  2.2875    1  273   \n",
              "503  0.06076   0.0  11.93     0  0.573  6.976  91.0  2.1675    1  273   \n",
              "504  0.10959   0.0  11.93     0  0.573  6.794  89.3  2.3889    1  273   \n",
              "505  0.04741   0.0  11.93     0  0.573  6.030  80.8  2.5050    1  273   \n",
              "\n",
              "     ptratio       b  lstat  medv  \n",
              "0       15.3  396.90   4.98  24.0  \n",
              "1       17.8  396.90   9.14  21.6  \n",
              "2       17.8  392.83   4.03  34.7  \n",
              "3       18.7  394.63   2.94  33.4  \n",
              "4       18.7  396.90   5.33  36.2  \n",
              "..       ...     ...    ...   ...  \n",
              "501     21.0  391.99   9.67  22.4  \n",
              "502     21.0  396.90   9.08  20.6  \n",
              "503     21.0  396.90   5.64  23.9  \n",
              "504     21.0  393.45   6.48  22.0  \n",
              "505     21.0  396.90   7.88  11.9  \n",
              "\n",
              "[506 rows x 14 columns]"
            ],
            "text/html": [
              "\n",
              "  <div id=\"df-5d2effee-7b9c-4682-a175-13f7e7b5bbbf\">\n",
              "    <div class=\"colab-df-container\">\n",
              "      <div>\n",
              "<style scoped>\n",
              "    .dataframe tbody tr th:only-of-type {\n",
              "        vertical-align: middle;\n",
              "    }\n",
              "\n",
              "    .dataframe tbody tr th {\n",
              "        vertical-align: top;\n",
              "    }\n",
              "\n",
              "    .dataframe thead th {\n",
              "        text-align: right;\n",
              "    }\n",
              "</style>\n",
              "<table border=\"1\" class=\"dataframe\">\n",
              "  <thead>\n",
              "    <tr style=\"text-align: right;\">\n",
              "      <th></th>\n",
              "      <th>crim</th>\n",
              "      <th>zn</th>\n",
              "      <th>indus</th>\n",
              "      <th>chas</th>\n",
              "      <th>nox</th>\n",
              "      <th>rm</th>\n",
              "      <th>age</th>\n",
              "      <th>dis</th>\n",
              "      <th>rad</th>\n",
              "      <th>tax</th>\n",
              "      <th>ptratio</th>\n",
              "      <th>b</th>\n",
              "      <th>lstat</th>\n",
              "      <th>medv</th>\n",
              "    </tr>\n",
              "  </thead>\n",
              "  <tbody>\n",
              "    <tr>\n",
              "      <th>0</th>\n",
              "      <td>0.00632</td>\n",
              "      <td>18.0</td>\n",
              "      <td>2.31</td>\n",
              "      <td>0</td>\n",
              "      <td>0.538</td>\n",
              "      <td>6.575</td>\n",
              "      <td>65.2</td>\n",
              "      <td>4.0900</td>\n",
              "      <td>1</td>\n",
              "      <td>296</td>\n",
              "      <td>15.3</td>\n",
              "      <td>396.90</td>\n",
              "      <td>4.98</td>\n",
              "      <td>24.0</td>\n",
              "    </tr>\n",
              "    <tr>\n",
              "      <th>1</th>\n",
              "      <td>0.02731</td>\n",
              "      <td>0.0</td>\n",
              "      <td>7.07</td>\n",
              "      <td>0</td>\n",
              "      <td>0.469</td>\n",
              "      <td>6.421</td>\n",
              "      <td>78.9</td>\n",
              "      <td>4.9671</td>\n",
              "      <td>2</td>\n",
              "      <td>242</td>\n",
              "      <td>17.8</td>\n",
              "      <td>396.90</td>\n",
              "      <td>9.14</td>\n",
              "      <td>21.6</td>\n",
              "    </tr>\n",
              "    <tr>\n",
              "      <th>2</th>\n",
              "      <td>0.02729</td>\n",
              "      <td>0.0</td>\n",
              "      <td>7.07</td>\n",
              "      <td>0</td>\n",
              "      <td>0.469</td>\n",
              "      <td>7.185</td>\n",
              "      <td>61.1</td>\n",
              "      <td>4.9671</td>\n",
              "      <td>2</td>\n",
              "      <td>242</td>\n",
              "      <td>17.8</td>\n",
              "      <td>392.83</td>\n",
              "      <td>4.03</td>\n",
              "      <td>34.7</td>\n",
              "    </tr>\n",
              "    <tr>\n",
              "      <th>3</th>\n",
              "      <td>0.03237</td>\n",
              "      <td>0.0</td>\n",
              "      <td>2.18</td>\n",
              "      <td>0</td>\n",
              "      <td>0.458</td>\n",
              "      <td>6.998</td>\n",
              "      <td>45.8</td>\n",
              "      <td>6.0622</td>\n",
              "      <td>3</td>\n",
              "      <td>222</td>\n",
              "      <td>18.7</td>\n",
              "      <td>394.63</td>\n",
              "      <td>2.94</td>\n",
              "      <td>33.4</td>\n",
              "    </tr>\n",
              "    <tr>\n",
              "      <th>4</th>\n",
              "      <td>0.06905</td>\n",
              "      <td>0.0</td>\n",
              "      <td>2.18</td>\n",
              "      <td>0</td>\n",
              "      <td>0.458</td>\n",
              "      <td>7.147</td>\n",
              "      <td>54.2</td>\n",
              "      <td>6.0622</td>\n",
              "      <td>3</td>\n",
              "      <td>222</td>\n",
              "      <td>18.7</td>\n",
              "      <td>396.90</td>\n",
              "      <td>5.33</td>\n",
              "      <td>36.2</td>\n",
              "    </tr>\n",
              "    <tr>\n",
              "      <th>...</th>\n",
              "      <td>...</td>\n",
              "      <td>...</td>\n",
              "      <td>...</td>\n",
              "      <td>...</td>\n",
              "      <td>...</td>\n",
              "      <td>...</td>\n",
              "      <td>...</td>\n",
              "      <td>...</td>\n",
              "      <td>...</td>\n",
              "      <td>...</td>\n",
              "      <td>...</td>\n",
              "      <td>...</td>\n",
              "      <td>...</td>\n",
              "      <td>...</td>\n",
              "    </tr>\n",
              "    <tr>\n",
              "      <th>501</th>\n",
              "      <td>0.06263</td>\n",
              "      <td>0.0</td>\n",
              "      <td>11.93</td>\n",
              "      <td>0</td>\n",
              "      <td>0.573</td>\n",
              "      <td>6.593</td>\n",
              "      <td>69.1</td>\n",
              "      <td>2.4786</td>\n",
              "      <td>1</td>\n",
              "      <td>273</td>\n",
              "      <td>21.0</td>\n",
              "      <td>391.99</td>\n",
              "      <td>9.67</td>\n",
              "      <td>22.4</td>\n",
              "    </tr>\n",
              "    <tr>\n",
              "      <th>502</th>\n",
              "      <td>0.04527</td>\n",
              "      <td>0.0</td>\n",
              "      <td>11.93</td>\n",
              "      <td>0</td>\n",
              "      <td>0.573</td>\n",
              "      <td>6.120</td>\n",
              "      <td>76.7</td>\n",
              "      <td>2.2875</td>\n",
              "      <td>1</td>\n",
              "      <td>273</td>\n",
              "      <td>21.0</td>\n",
              "      <td>396.90</td>\n",
              "      <td>9.08</td>\n",
              "      <td>20.6</td>\n",
              "    </tr>\n",
              "    <tr>\n",
              "      <th>503</th>\n",
              "      <td>0.06076</td>\n",
              "      <td>0.0</td>\n",
              "      <td>11.93</td>\n",
              "      <td>0</td>\n",
              "      <td>0.573</td>\n",
              "      <td>6.976</td>\n",
              "      <td>91.0</td>\n",
              "      <td>2.1675</td>\n",
              "      <td>1</td>\n",
              "      <td>273</td>\n",
              "      <td>21.0</td>\n",
              "      <td>396.90</td>\n",
              "      <td>5.64</td>\n",
              "      <td>23.9</td>\n",
              "    </tr>\n",
              "    <tr>\n",
              "      <th>504</th>\n",
              "      <td>0.10959</td>\n",
              "      <td>0.0</td>\n",
              "      <td>11.93</td>\n",
              "      <td>0</td>\n",
              "      <td>0.573</td>\n",
              "      <td>6.794</td>\n",
              "      <td>89.3</td>\n",
              "      <td>2.3889</td>\n",
              "      <td>1</td>\n",
              "      <td>273</td>\n",
              "      <td>21.0</td>\n",
              "      <td>393.45</td>\n",
              "      <td>6.48</td>\n",
              "      <td>22.0</td>\n",
              "    </tr>\n",
              "    <tr>\n",
              "      <th>505</th>\n",
              "      <td>0.04741</td>\n",
              "      <td>0.0</td>\n",
              "      <td>11.93</td>\n",
              "      <td>0</td>\n",
              "      <td>0.573</td>\n",
              "      <td>6.030</td>\n",
              "      <td>80.8</td>\n",
              "      <td>2.5050</td>\n",
              "      <td>1</td>\n",
              "      <td>273</td>\n",
              "      <td>21.0</td>\n",
              "      <td>396.90</td>\n",
              "      <td>7.88</td>\n",
              "      <td>11.9</td>\n",
              "    </tr>\n",
              "  </tbody>\n",
              "</table>\n",
              "<p>506 rows × 14 columns</p>\n",
              "</div>\n",
              "      <button class=\"colab-df-convert\" onclick=\"convertToInteractive('df-5d2effee-7b9c-4682-a175-13f7e7b5bbbf')\"\n",
              "              title=\"Convert this dataframe to an interactive table.\"\n",
              "              style=\"display:none;\">\n",
              "        \n",
              "  <svg xmlns=\"http://www.w3.org/2000/svg\" height=\"24px\"viewBox=\"0 0 24 24\"\n",
              "       width=\"24px\">\n",
              "    <path d=\"M0 0h24v24H0V0z\" fill=\"none\"/>\n",
              "    <path d=\"M18.56 5.44l.94 2.06.94-2.06 2.06-.94-2.06-.94-.94-2.06-.94 2.06-2.06.94zm-11 1L8.5 8.5l.94-2.06 2.06-.94-2.06-.94L8.5 2.5l-.94 2.06-2.06.94zm10 10l.94 2.06.94-2.06 2.06-.94-2.06-.94-.94-2.06-.94 2.06-2.06.94z\"/><path d=\"M17.41 7.96l-1.37-1.37c-.4-.4-.92-.59-1.43-.59-.52 0-1.04.2-1.43.59L10.3 9.45l-7.72 7.72c-.78.78-.78 2.05 0 2.83L4 21.41c.39.39.9.59 1.41.59.51 0 1.02-.2 1.41-.59l7.78-7.78 2.81-2.81c.8-.78.8-2.07 0-2.86zM5.41 20L4 18.59l7.72-7.72 1.47 1.35L5.41 20z\"/>\n",
              "  </svg>\n",
              "      </button>\n",
              "      \n",
              "  <style>\n",
              "    .colab-df-container {\n",
              "      display:flex;\n",
              "      flex-wrap:wrap;\n",
              "      gap: 12px;\n",
              "    }\n",
              "\n",
              "    .colab-df-convert {\n",
              "      background-color: #E8F0FE;\n",
              "      border: none;\n",
              "      border-radius: 50%;\n",
              "      cursor: pointer;\n",
              "      display: none;\n",
              "      fill: #1967D2;\n",
              "      height: 32px;\n",
              "      padding: 0 0 0 0;\n",
              "      width: 32px;\n",
              "    }\n",
              "\n",
              "    .colab-df-convert:hover {\n",
              "      background-color: #E2EBFA;\n",
              "      box-shadow: 0px 1px 2px rgba(60, 64, 67, 0.3), 0px 1px 3px 1px rgba(60, 64, 67, 0.15);\n",
              "      fill: #174EA6;\n",
              "    }\n",
              "\n",
              "    [theme=dark] .colab-df-convert {\n",
              "      background-color: #3B4455;\n",
              "      fill: #D2E3FC;\n",
              "    }\n",
              "\n",
              "    [theme=dark] .colab-df-convert:hover {\n",
              "      background-color: #434B5C;\n",
              "      box-shadow: 0px 1px 3px 1px rgba(0, 0, 0, 0.15);\n",
              "      filter: drop-shadow(0px 1px 2px rgba(0, 0, 0, 0.3));\n",
              "      fill: #FFFFFF;\n",
              "    }\n",
              "  </style>\n",
              "\n",
              "      <script>\n",
              "        const buttonEl =\n",
              "          document.querySelector('#df-5d2effee-7b9c-4682-a175-13f7e7b5bbbf button.colab-df-convert');\n",
              "        buttonEl.style.display =\n",
              "          google.colab.kernel.accessAllowed ? 'block' : 'none';\n",
              "\n",
              "        async function convertToInteractive(key) {\n",
              "          const element = document.querySelector('#df-5d2effee-7b9c-4682-a175-13f7e7b5bbbf');\n",
              "          const dataTable =\n",
              "            await google.colab.kernel.invokeFunction('convertToInteractive',\n",
              "                                                     [key], {});\n",
              "          if (!dataTable) return;\n",
              "\n",
              "          const docLinkHtml = 'Like what you see? Visit the ' +\n",
              "            '<a target=\"_blank\" href=https://colab.research.google.com/notebooks/data_table.ipynb>data table notebook</a>'\n",
              "            + ' to learn more about interactive tables.';\n",
              "          element.innerHTML = '';\n",
              "          dataTable['output_type'] = 'display_data';\n",
              "          await google.colab.output.renderOutput(dataTable, element);\n",
              "          const docLink = document.createElement('div');\n",
              "          docLink.innerHTML = docLinkHtml;\n",
              "          element.appendChild(docLink);\n",
              "        }\n",
              "      </script>\n",
              "    </div>\n",
              "  </div>\n",
              "  "
            ]
          },
          "metadata": {},
          "execution_count": 2
        }
      ]
    },
    {
      "cell_type": "markdown",
      "source": [
        "Medv is price of house which we want to predict on basis of other datas\n"
      ],
      "metadata": {
        "id": "wHJ-scToBe12"
      }
    },
    {
      "cell_type": "code",
      "source": [
        "df.isna().sum()"
      ],
      "metadata": {
        "id": "H1lakSZhjbCL",
        "colab": {
          "base_uri": "https://localhost:8080/"
        },
        "outputId": "cc63714f-06f9-451d-fe30-3cf83bd25a18"
      },
      "execution_count": null,
      "outputs": [
        {
          "output_type": "execute_result",
          "data": {
            "text/plain": [
              "crim       0\n",
              "zn         0\n",
              "indus      0\n",
              "chas       0\n",
              "nox        0\n",
              "rm         0\n",
              "age        0\n",
              "dis        0\n",
              "rad        0\n",
              "tax        0\n",
              "ptratio    0\n",
              "b          0\n",
              "lstat      0\n",
              "medv       0\n",
              "dtype: int64"
            ]
          },
          "metadata": {},
          "execution_count": 3
        }
      ]
    },
    {
      "cell_type": "markdown",
      "source": [
        "calculating corellation just to know relation between values. Here you can see that :\n",
        "\n",
        "corellation coeff of data with respect to medv:\n",
        "---> positive in case of medv(obviouslyy!!) rm, zn,b,dis,chas\n",
        "---> -ve in case of others\n",
        "\n",
        "we need to use data of both +ve corellation and -ve corellation"
      ],
      "metadata": {
        "id": "FhpMo5BNA1Zn"
      }
    },
    {
      "cell_type": "code",
      "source": [
        "corr_matrix = df.corr()\n",
        "corr_matrix['medv'].sort_values(ascending=False)"
      ],
      "metadata": {
        "id": "KIjVAUV7j02Y",
        "colab": {
          "base_uri": "https://localhost:8080/"
        },
        "outputId": "209a5974-9475-46c8-fd9e-252229de4566"
      },
      "execution_count": null,
      "outputs": [
        {
          "output_type": "execute_result",
          "data": {
            "text/plain": [
              "medv       1.000000\n",
              "rm         0.695360\n",
              "zn         0.360445\n",
              "b          0.333461\n",
              "dis        0.249929\n",
              "chas       0.175260\n",
              "age       -0.376955\n",
              "rad       -0.381626\n",
              "crim      -0.388305\n",
              "nox       -0.427321\n",
              "tax       -0.468536\n",
              "indus     -0.483725\n",
              "ptratio   -0.507787\n",
              "lstat     -0.737663\n",
              "Name: medv, dtype: float64"
            ]
          },
          "metadata": {},
          "execution_count": 5
        }
      ]
    },
    {
      "cell_type": "markdown",
      "source": [
        "Heat map tells about corellation:\n",
        "White colour indicates positive corellation and red colour indicates -ve corellation\n",
        "\n",
        "for prediction of medv we want values which have +ve corellation coeff. => clodse to white colour"
      ],
      "metadata": {
        "id": "plZ0UvkqC0Fi"
      }
    },
    {
      "cell_type": "code",
      "source": [
        "# plotting and displaying correlation heatmap\n",
        "\n",
        "dataplot = sb.heatmap(df.corr(), annot=False)\n",
        "mp.show()"
      ],
      "metadata": {
        "id": "VNc760Uwj9Yb",
        "colab": {
          "base_uri": "https://localhost:8080/",
          "height": 292
        },
        "outputId": "7a143464-303d-4c16-d628-e3022484f81e"
      },
      "execution_count": null,
      "outputs": [
        {
          "output_type": "display_data",
          "data": {
            "text/plain": [
              "<Figure size 432x288 with 2 Axes>"
            ],
            "image/png": "[encoded data removed]"
          },
          "metadata": {
            "needs_background": "light"
          }
        }
      ]
    },
    {
      "cell_type": "markdown",
      "source": [
        "We need to drop dis, chas and b because:\n",
        "1. see corellation matrix code done before\n",
        "2.Although corellation of dis, chas and b is positive \n",
        "from heat map we can conclude that their values seems to be near to red colour\n",
        "=> we should not include them \n",
        "=> we should drop them\n",
        "\n",
        "we need to use data of both +ve corellation and -ve corellation\n",
        " **BUT \n",
        "Drop values close to 0** "
      ],
      "metadata": {
        "id": "hi9DSt8UDX0d"
      }
    },
    {
      "cell_type": "code",
      "source": [
        "df.drop([\"dis\",\"chas\",\"b\"],axis=1,inplace=True)"
      ],
      "metadata": {
        "id": "dgvREF7ckD9O"
      },
      "execution_count": null,
      "outputs": []
    },
    {
      "cell_type": "markdown",
      "source": [
        "we are printing 100th row of dataframe"
      ],
      "metadata": {
        "id": "WvdG0FUeLAoZ"
      }
    },
    {
      "cell_type": "code",
      "source": [
        "df.iloc[100]"
      ],
      "metadata": {
        "id": "9wvBAhRZkHna",
        "colab": {
          "base_uri": "https://localhost:8080/"
        },
        "outputId": "b0a8002c-cec8-4797-eed5-86fa7c10bfff"
      },
      "execution_count": null,
      "outputs": [
        {
          "output_type": "execute_result",
          "data": {
            "text/plain": [
              "crim         0.14866\n",
              "zn           0.00000\n",
              "indus        8.56000\n",
              "nox          0.52000\n",
              "rm           6.72700\n",
              "age         79.90000\n",
              "rad          5.00000\n",
              "tax        384.00000\n",
              "ptratio     20.90000\n",
              "lstat        9.42000\n",
              "medv        27.50000\n",
              "Name: 100, dtype: float64"
            ]
          },
          "metadata": {},
          "execution_count": 8
        }
      ]
    },
    {
      "cell_type": "code",
      "source": [
        "print(df.describe())"
      ],
      "metadata": {
        "id": "IUWAT4EQkLeq",
        "colab": {
          "base_uri": "https://localhost:8080/"
        },
        "outputId": "ff82cea2-572f-409b-cd24-6365deac73d9"
      },
      "execution_count": null,
      "outputs": [
        {
          "output_type": "stream",
          "name": "stdout",
          "text": [
            "             crim          zn       indus         nox          rm         age  \\\n",
            "count  506.000000  506.000000  506.000000  506.000000  506.000000  506.000000   \n",
            "mean     3.613524   11.363636   11.136779    0.554695    6.284634   68.574901   \n",
            "std      8.601545   23.322453    6.860353    0.115878    0.702617   28.148861   \n",
            "min      0.006320    0.000000    0.460000    0.385000    3.561000    2.900000   \n",
            "25%      0.082045    0.000000    5.190000    0.449000    5.885500   45.025000   \n",
            "50%      0.256510    0.000000    9.690000    0.538000    6.208500   77.500000   \n",
            "75%      3.677083   12.500000   18.100000    0.624000    6.623500   94.075000   \n",
            "max     88.976200  100.000000   27.740000    0.871000    8.780000  100.000000   \n",
            "\n",
            "              rad         tax     ptratio       lstat        medv  \n",
            "count  506.000000  506.000000  506.000000  506.000000  506.000000  \n",
            "mean     9.549407  408.237154   18.455534   12.653063   22.532806  \n",
            "std      8.707259  168.537116    2.164946    7.141062    9.197104  \n",
            "min      1.000000  187.000000   12.600000    1.730000    5.000000  \n",
            "25%      4.000000  279.000000   17.400000    6.950000   17.025000  \n",
            "50%      5.000000  330.000000   19.050000   11.360000   21.200000  \n",
            "75%     24.000000  666.000000   20.200000   16.955000   25.000000  \n",
            "max     24.000000  711.000000   22.000000   37.970000   50.000000  \n"
          ]
        }
      ]
    },
    {
      "cell_type": "markdown",
      "source": [
        "# Now we need to scale databecause:\n",
        "May be range of data might be too large\n",
        "so it becomes difficult for computation\n",
        "hence do one thing, scale the values so that computation and calculations will be easy"
      ],
      "metadata": {
        "id": "fAHw5WG1LQs5"
      }
    },
    {
      "cell_type": "code",
      "source": [
        "# Split the data into training and testing sets\n",
        "\n",
        "from sklearn.model_selection import train_test_split\n",
        "\n",
        "X=df.drop('medv', axis=1) # All data expect medv column\n",
        "Y= df['medv'] # Medv column\n",
        "\n",
        "# test size 0.2 indicates:\n",
        "#80% is training data\n",
        "#20% is testing data\n",
        "\n",
        "X_train, X_test, y_train, y_test = train_test_split(X, Y, test_size=0.2 )\n"
      ],
      "metadata": {
        "id": "H7vvw_JvkRQC"
      },
      "execution_count": null,
      "outputs": []
    },
    {
      "cell_type": "markdown",
      "source": [
        "scalling the values..."
      ],
      "metadata": {
        "id": "OMwlpFCiMH2h"
      }
    },
    {
      "cell_type": "code",
      "source": [
        "from sklearn.preprocessing import StandardScaler\n",
        "\n",
        "scaler = StandardScaler()\n",
        "X_train_scaled = scaler.fit_transform(X_train)\n",
        "X_test_scaled = scaler.transform(X_test)\n"
      ],
      "metadata": {
        "id": "hjQ0We30kUWe"
      },
      "execution_count": null,
      "outputs": []
    },
    {
      "cell_type": "markdown",
      "source": [
        "Now we are fitting the data into linear regression algorithm"
      ],
      "metadata": {
        "id": "tb5_65kyMVJF"
      }
    },
    {
      "cell_type": "code",
      "source": [
        "from sklearn.linear_model import LinearRegression\n",
        "\n",
        "model = LinearRegression()\n",
        "model.fit(X_train_scaled, y_train)"
      ],
      "metadata": {
        "id": "UAAlBfRNkXhp",
        "colab": {
          "base_uri": "https://localhost:8080/",
          "height": 74
        },
        "outputId": "6667485a-09ea-4440-e39c-9a3ba942416e"
      },
      "execution_count": null,
      "outputs": [
        {
          "output_type": "execute_result",
          "data": {
            "text/plain": [
              "LinearRegression()"
            ],
            "text/html": [
              "<style>#sk-container-id-1 {color: black;background-color: white;}#sk-container-id-1 pre{padding: 0;}#sk-container-id-1 div.sk-toggleable {background-color: white;}#sk-container-id-1 label.sk-toggleable__label {cursor: pointer;display: block;width: 100%;margin-bottom: 0;padding: 0.3em;box-sizing: border-box;text-align: center;}#sk-container-id-1 label.sk-toggleable__label-arrow:before {content: \"▸\";float: left;margin-right: 0.25em;color: #696969;}#sk-container-id-1 label.sk-toggleable__label-arrow:hover:before {color: black;}#sk-container-id-1 div.sk-estimator:hover label.sk-toggleable__label-arrow:before {color: black;}#sk-container-id-1 div.sk-toggleable__content {max-height: 0;max-width: 0;overflow: hidden;text-align: left;background-color: #f0f8ff;}#sk-container-id-1 div.sk-toggleable__content pre {margin: 0.2em;color: black;border-radius: 0.25em;background-color: #f0f8ff;}#sk-container-id-1 input.sk-toggleable__control:checked~div.sk-toggleable__content {max-height: 200px;max-width: 100%;overflow: auto;}#sk-container-id-1 input.sk-toggleable__control:checked~label.sk-toggleable__label-arrow:before {content: \"▾\";}#sk-container-id-1 div.sk-estimator input.sk-toggleable__control:checked~label.sk-toggleable__label {background-color: #d4ebff;}#sk-container-id-1 div.sk-label input.sk-toggleable__control:checked~label.sk-toggleable__label {background-color: #d4ebff;}#sk-container-id-1 input.sk-hidden--visually {border: 0;clip: rect(1px 1px 1px 1px);clip: rect(1px, 1px, 1px, 1px);height: 1px;margin: -1px;overflow: hidden;padding: 0;position: absolute;width: 1px;}#sk-container-id-1 div.sk-estimator {font-family: monospace;background-color: #f0f8ff;border: 1px dotted black;border-radius: 0.25em;box-sizing: border-box;margin-bottom: 0.5em;}#sk-container-id-1 div.sk-estimator:hover {background-color: #d4ebff;}#sk-container-id-1 div.sk-parallel-item::after {content: \"\";width: 100%;border-bottom: 1px solid gray;flex-grow: 1;}#sk-container-id-1 div.sk-label:hover label.sk-toggleable__label {background-color: #d4ebff;}#sk-container-id-1 div.sk-serial::before {content: \"\";position: absolute;border-left: 1px solid gray;box-sizing: border-box;top: 0;bottom: 0;left: 50%;z-index: 0;}#sk-container-id-1 div.sk-serial {display: flex;flex-direction: column;align-items: center;background-color: white;padding-right: 0.2em;padding-left: 0.2em;position: relative;}#sk-container-id-1 div.sk-item {position: relative;z-index: 1;}#sk-container-id-1 div.sk-parallel {display: flex;align-items: stretch;justify-content: center;background-color: white;position: relative;}#sk-container-id-1 div.sk-item::before, #sk-container-id-1 div.sk-parallel-item::before {content: \"\";position: absolute;border-left: 1px solid gray;box-sizing: border-box;top: 0;bottom: 0;left: 50%;z-index: -1;}#sk-container-id-1 div.sk-parallel-item {display: flex;flex-direction: column;z-index: 1;position: relative;background-color: white;}#sk-container-id-1 div.sk-parallel-item:first-child::after {align-self: flex-end;width: 50%;}#sk-container-id-1 div.sk-parallel-item:last-child::after {align-self: flex-start;width: 50%;}#sk-container-id-1 div.sk-parallel-item:only-child::after {width: 0;}#sk-container-id-1 div.sk-dashed-wrapped {border: 1px dashed gray;margin: 0 0.4em 0.5em 0.4em;box-sizing: border-box;padding-bottom: 0.4em;background-color: white;}#sk-container-id-1 div.sk-label label {font-family: monospace;font-weight: bold;display: inline-block;line-height: 1.2em;}#sk-container-id-1 div.sk-label-container {text-align: center;}#sk-container-id-1 div.sk-container {/* jupyter's `normalize.less` sets `[hidden] { display: none; }` but bootstrap.min.css set `[hidden] { display: none !important; }` so we also need the `!important` here to be able to override the default hidden behavior on the sphinx rendered scikit-learn.org. See: https://github.com/scikit-learn/scikit-learn/issues/21755 */display: inline-block !important;position: relative;}#sk-container-id-1 div.sk-text-repr-fallback {display: none;}</style><div id=\"sk-container-id-1\" class=\"sk-top-container\"><div class=\"sk-text-repr-fallback\"><pre>LinearRegression()</pre><b>In a Jupyter environment, please rerun this cell to show the HTML representation or trust the notebook. <br />On GitHub, the HTML representation is unable to render, please try loading this page with nbviewer.org.</b></div><div class=\"sk-container\" hidden><div class=\"sk-item\"><div class=\"sk-estimator sk-toggleable\"><input class=\"sk-toggleable__control sk-hidden--visually\" id=\"sk-estimator-id-1\" type=\"checkbox\" checked><label for=\"sk-estimator-id-1\" class=\"sk-toggleable__label sk-toggleable__label-arrow\">LinearRegression</label><div class=\"sk-toggleable__content\"><pre>LinearRegression()</pre></div></div></div></div></div>"
            ]
          },
          "metadata": {},
          "execution_count": 13
        }
      ]
    },
    {
      "cell_type": "code",
      "source": [
        "#calculating the mean squared error\n",
        "\n",
        "from sklearn.metrics import mean_squared_error\n",
        "\n",
        "y_pred = model.predict(X_test_scaled)\n",
        "mse = mean_squared_error(y_test, y_pred)\n",
        "print(\"MSE:\", mse)"
      ],
      "metadata": {
        "id": "uXTN_IDCka8G",
        "colab": {
          "base_uri": "https://localhost:8080/"
        },
        "outputId": "0019bb68-01ed-40e8-d4d0-d01711dc31ef"
      },
      "execution_count": null,
      "outputs": [
        {
          "output_type": "stream",
          "name": "stdout",
          "text": [
            "MSE: 27.89733682381939\n"
          ]
        }
      ]
    },
    {
      "cell_type": "code",
      "source": [
        "# make predictions on the test set\n",
        "# compute the RMSE score\n",
        "# Calculate rms error (Root mean square error)\n",
        "from sklearn.metrics import mean_squared_error\n",
        "\n",
        "y_pred = model.predict(X_test_scaled)\n",
        "\n",
        "Root_mean_sqd_error = mean_squared_error(y_test, y_pred, squared=False)\n",
        "print(\"RMSE:\", Root_mean_sqd_error ) "
      ],
      "metadata": {
        "id": "8_1K-dB4kdi9",
        "colab": {
          "base_uri": "https://localhost:8080/"
        },
        "outputId": "e2d84ce2-f7ab-4580-f80c-73729f47993d"
      },
      "execution_count": null,
      "outputs": [
        {
          "output_type": "stream",
          "name": "stdout",
          "text": [
            "RMSE: 5.281792955410065\n"
          ]
        }
      ]
    },
    {
      "cell_type": "markdown",
      "source": [
        "egression model. R2 measures the proportion of the variance in the dependent variable (y) that is explained by the independent variable(s) (x) in the regression model. It is also called the coefficient of determination.\n",
        "\n",
        "An R2 score of 1.0 indicates a perfect fit of the regression model to the data, meaning that all of the variance in the dependent variable is explained by the independent variable(s). A score of 0.0 indicates that the regression model does not explain any of the variance in the dependent variable, and a negative R2 score indicates that the model fits the data worse than a horizontal line.\n",
        "\n",
        "**R2 score ranges between 0 and 1, with higher values indicating a better fit of the model to the data. However, a high R2 score does not necessarily mean that the model is a good predictor of the dependent variable, as it is possible to overfit a model to the training data. Therefore, it is important to use additional metrics and techniques to evaluate the performance of the model.**"
      ],
      "metadata": {
        "id": "NYmYUoGwNFwZ"
      }
    },
    {
      "cell_type": "code",
      "source": [
        "#r square score\n",
        "#ytest-dependent  ypredicted-independent\n",
        "from sklearn.metrics import r2_score\n",
        "R2 = r2_score(y_test,y_pred)\n",
        "print(\"R2_score:\",R2)"
      ],
      "metadata": {
        "colab": {
          "base_uri": "https://localhost:8080/"
        },
        "id": "He1jWPTw012s",
        "outputId": "54a81129-a721-4dbf-a6a1-6fc63fdc5483"
      },
      "execution_count": null,
      "outputs": [
        {
          "output_type": "stream",
          "name": "stdout",
          "text": [
            "R2_score: 0.452811409854581\n"
          ]
        }
      ]
    },
    {
      "cell_type": "markdown",
      "source": [
        "In linear regression, the independent variable (also called the predictor variable or input variable) is the variable that is being used to predict the value of the dependent variable (also called the response variable or output variable). The dependent variable is the variable that is being predicted.\n",
        "\n",
        "For example, suppose we want to predict a person's salary based on their years of work experience. In this case, the independent variable is the number of years of work experience, and the dependent variable is the salary. We could use a linear regression model to estimate the relationship between these two variables, which would allow us to predict someone's salary based on their years of work experience.\n",
        "\n",
        "Another example could be predicting the price of a house based on its size. Here, the independent variable would be the size of the house (in square feet) and the dependent variable would be the price of the house. We could use a linear regression model to estimate the relationship between these two variables, which would allow us to predict the price of a house based on its size.\n",
        "\n",
        "In general, the independent variable is the variable that is controlled or manipulated in order to observe its effect on the dependent variable. The dependent variable, on the other hand, is the variable that is affected or influenced by changes in the independent variable."
      ],
      "metadata": {
        "id": "BW9G5N3Z5OoF"
      }
    },
    {
      "cell_type": "markdown",
      "source": [
        "Now we need to give some custom inputs and check weather our model predicts correct answer or not..."
      ],
      "metadata": {
        "id": "0jdv3xHvMnWR"
      }
    },
    {
      "cell_type": "code",
      "source": [
        "# create a new DataFrame with the custom input values\n",
        "\n",
        "custom_input = pd.DataFrame({\n",
        "    'crim': [0.147],\n",
        "    'zn': [0],\n",
        "    'indus': [8.50],\n",
        "    'nox': [0.53],\n",
        "    'rm': [6.728],\n",
        "    'age': [79.5],\n",
        "    'rad': [5],\n",
        "    'tax': [385],\n",
        "    'ptratio':[20.9],\n",
        "    \n",
        "    'lstat':[9.42]\n",
        "})"
      ],
      "metadata": {
        "id": "w_isZBR5kgtj"
      },
      "execution_count": null,
      "outputs": []
    },
    {
      "cell_type": "markdown",
      "source": [
        "Now printing predicted values"
      ],
      "metadata": {
        "id": "iGbQKIAMM00E"
      }
    },
    {
      "cell_type": "code",
      "source": [
        "# scale the input values using the same scaling parameters as the training set\n",
        "custom_input_scaled = scaler.transform(custom_input)\n",
        "\n",
        "# make a prediction using the trained model\n",
        "prediction = model.predict(custom_input_scaled)\n",
        "\n",
        "# print the predicted value\n",
        "print(\"Predicted value:\", prediction[0])"
      ],
      "metadata": {
        "id": "AA6LOOf9kkPr",
        "colab": {
          "base_uri": "https://localhost:8080/"
        },
        "outputId": "9c2be524-3c61-4f17-8fb0-5f5829a97548"
      },
      "execution_count": null,
      "outputs": [
        {
          "output_type": "stream",
          "name": "stdout",
          "text": [
            "Predicted value: 23.649760433698514\n"
          ]
        }
      ]
    }
  ]
}